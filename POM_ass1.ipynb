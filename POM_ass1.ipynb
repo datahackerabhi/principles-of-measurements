{
 "cells": [
  {
   "cell_type": "code",
   "execution_count": 45,
   "metadata": {},
   "outputs": [],
   "source": [
    "import numpy as np\n",
    "from numpy.random import normal\n",
    "import matplotlib.pyplot as plt"
   ]
  },
  {
   "cell_type": "markdown",
   "metadata": {},
   "source": [
    "# Q1"
   ]
  },
  {
   "cell_type": "code",
   "execution_count": 25,
   "metadata": {},
   "outputs": [],
   "source": [
    "N = 100000\n",
    "r=normal(0,1,N)\n",
    "mean = 0\n",
    "std = 0"
   ]
  },
  {
   "cell_type": "code",
   "execution_count": 26,
   "metadata": {},
   "outputs": [],
   "source": [
    "for i in range(len(r)):\n",
    "\tmean += r[i]\n",
    "\n",
    "mean = mean/len(r)"
   ]
  },
  {
   "cell_type": "code",
   "execution_count": 27,
   "metadata": {},
   "outputs": [],
   "source": [
    "for j in range(len(r)):\n",
    "\tstd += (r[j] - mean)**2\n",
    "\n",
    "std = np.sqrt(std/len(r))"
   ]
  },
  {
   "cell_type": "code",
   "execution_count": 28,
   "metadata": {},
   "outputs": [
    {
     "name": "stdout",
     "output_type": "stream",
     "text": [
      "Mean = 0.0033001748657580697\n",
      "Standard Deviation = 0.9994836994452047\n"
     ]
    }
   ],
   "source": [
    "print(\"Mean =\",mean)\n",
    "print(\"Standard Deviation =\",std)"
   ]
  },
  {
   "cell_type": "code",
   "execution_count": 29,
   "metadata": {},
   "outputs": [
    {
     "name": "stdout",
     "output_type": "stream",
     "text": [
      "Mean =  0.00330017486575808\n",
      "Standard Deviation =  0.9994836994452023\n"
     ]
    }
   ],
   "source": [
    "exp_mean=np.mean(r)\n",
    "exp_std=np.std(r)\n",
    "print(\"Mean = \", exp_mean)\n",
    "print(\"Standard Deviation = \", exp_std)"
   ]
  },
  {
   "cell_type": "markdown",
   "metadata": {},
   "source": [
    "# Q2"
   ]
  },
  {
   "cell_type": "code",
   "execution_count": 41,
   "metadata": {},
   "outputs": [
    {
     "name": "stdout",
     "output_type": "stream",
     "text": [
      "Fraction outside 1*sigma 0.31669\n",
      "Fraction outside 2*sigma 0.04574\n",
      "Fraction outside 3*sigma 0.0027399999999999647\n"
     ]
    }
   ],
   "source": [
    "count1 = 0\n",
    "count2 = 0\n",
    "count3 = 0\n",
    "for i in range(len(r)):\n",
    "    if(np.fabs(r[i]-mean) < std):\n",
    "        count1 = count1+1\n",
    "    if(np.fabs(r[i]-mean) < 2*std):\n",
    "        count2 = count2+1\n",
    "    if(np.fabs(r[i]-mean) < 3*std):\n",
    "        count3 = count3+1\n",
    "\n",
    "print('Fraction outside 1*sigma',1-count1/len(r))\n",
    "print(\"Fraction outside 2*sigma\",1-count2/len(r))\n",
    "print(\"Fraction outside 3*sigma\",1-count3/len(r))\n"
   ]
  },
  {
   "cell_type": "markdown",
   "metadata": {},
   "source": [
    "# Q3"
   ]
  },
  {
   "cell_type": "code",
   "execution_count": 43,
   "metadata": {},
   "outputs": [
    {
     "name": "stdout",
     "output_type": "stream",
     "text": [
      "Mean = 0.0033001748657486285\n",
      "Standard Deviation = 0.9994836994451929\n",
      "Expected Mean =  0.00330017486575808\n",
      "Expected Standard Deviation =  0.9994836994452023\n"
     ]
    }
   ],
   "source": [
    "mean = 0\n",
    "std = 0\n",
    "k = 1\n",
    "for i in range(len(r)):\n",
    "    mean += (r[i]-k)/N\n",
    "    std += (r[i]-k)**2/N\n",
    "\n",
    "mean = mean+k\n",
    "std = np.sqrt(std - (mean-k)**2)\n",
    "\n",
    "print(\"Mean =\",mean)\n",
    "print(\"Standard Deviation =\",std)\n",
    "\n",
    "exp_mean=np.mean(r)\n",
    "exp_std=np.std(r)\n",
    "print(\"Expected Mean = \", exp_mean)\n",
    "print(\"Expected Standard Deviation = \", exp_std)"
   ]
  },
  {
   "cell_type": "markdown",
   "metadata": {},
   "source": [
    "# Q4"
   ]
  },
  {
   "cell_type": "code",
   "execution_count": 47,
   "metadata": {},
   "outputs": [
    {
     "data": {
      "image/png": "[encoded data removed]",
      "text/plain": [
       "<Figure size 432x288 with 1 Axes>"
      ]
     },
     "metadata": {},
     "output_type": "display_data"
    }
   ],
   "source": [
    "l = rand(N)\n",
    "\n",
    "plt.hist(l,density = True,bins = 100)\n",
    "plt.show()"
   ]
  },
  {
   "cell_type": "code",
   "execution_count": 48,
   "metadata": {},
   "outputs": [
    {
     "name": "stdout",
     "output_type": "stream",
     "text": [
      "Mean = 0.49784120324884207\n",
      "Standard Deviation = 0.28950913515345433\n"
     ]
    }
   ],
   "source": [
    "mean = 0\n",
    "std = 0\n",
    "\n",
    "for i in range(len(l)):\n",
    "    mean += l[i]\n",
    "\n",
    "mean = mean/len(l)\n",
    "\n",
    "for j in range(len(l)):\n",
    "    std += (l[j] - mean)**2\n",
    "\n",
    "std = np.sqrt(std/len(l))\n",
    "\n",
    "\n",
    "print(\"Mean =\",mean)\n",
    "print(\"Standard Deviation =\",std)"
   ]
  },
  {
   "cell_type": "markdown",
   "metadata": {},
   "source": [
    "# Q5"
   ]
  },
  {
   "cell_type": "code",
   "execution_count": 55,
   "metadata": {},
   "outputs": [
    {
     "data": {
      "image/png": "[encoded data removed]",
      "text/plain": [
       "<Figure size 432x288 with 1 Axes>"
      ]
     },
     "metadata": {},
     "output_type": "display_data"
    },
    {
     "data": {
      "image/png": "[encoded data removed]",
      "text/plain": [
       "<Figure size 432x288 with 1 Axes>"
      ]
     },
     "metadata": {},
     "output_type": "display_data"
    },
    {
     "data": {
      "image/png": "[encoded data removed]",
      "text/plain": [
       "<Figure size 432x288 with 1 Axes>"
      ]
     },
     "metadata": {},
     "output_type": "display_data"
    }
   ],
   "source": [
    "x = rand(N)\n",
    "y = rand(N)\n",
    "z = x + y\n",
    "\n",
    "plt.hist(x,density = True,bins = 100)\n",
    "plt.show()\n",
    "\n",
    "plt.hist(y,density = True,bins = 100)\n",
    "plt.show()\n",
    "\n",
    "plt.hist(z,density = True,bins = 100)\n",
    "plt.show()"
   ]
  },
  {
   "cell_type": "markdown",
   "metadata": {},
   "source": [
    "# Q6"
   ]
  },
  {
   "cell_type": "code",
   "execution_count": 54,
   "metadata": {},
   "outputs": [
    {
     "data": {
      "image/png": "[encoded data removed]",
      "text/plain": [
       "<Figure size 432x288 with 1 Axes>"
      ]
     },
     "metadata": {},
     "output_type": "display_data"
    }
   ],
   "source": [
    "x1= rand(N)\n",
    "x2= rand(N)\n",
    "x3= rand(N)\n",
    "x4= rand(N)\n",
    "x5= rand(N)\n",
    "y1= normal(0,1,N)\n",
    "y2= normal(1,2,N)\n",
    "y3= normal(2,3,N)\n",
    "y4= normal(3,4,N)\n",
    "y5= normal(4,5,N)\n",
    "\n",
    "z= (x1+x2+x3+x4+x5+y1+y2+y3+y4+y5)/10.0\n",
    "\n",
    "plt.hist(z,density = True,bins = 100)\n",
    "plt.show()"
   ]
  },
  {
   "cell_type": "markdown",
   "metadata": {},
   "source": [
    "# PART 2"
   ]
  },
  {
   "cell_type": "markdown",
   "metadata": {},
   "source": [
    "# Q1"
   ]
  },
  {
   "cell_type": "code",
   "execution_count": 71,
   "metadata": {},
   "outputs": [],
   "source": [
    "from numpy.random import poisson\n",
    "from numpy.random import binomial"
   ]
  },
  {
   "cell_type": "code",
   "execution_count": 70,
   "metadata": {},
   "outputs": [
    {
     "data": {
      "image/png": "[encoded data removed]",
      "text/plain": [
       "<Figure size 432x288 with 1 Axes>"
      ]
     },
     "metadata": {},
     "output_type": "display_data"
    }
   ],
   "source": [
    "lambd = 1\n",
    "r1 = poisson(lambd, N)\n",
    "plt.hist(r1,density = True)\n",
    "plt.show()"
   ]
  },
  {
   "cell_type": "code",
   "execution_count": 76,
   "metadata": {},
   "outputs": [
    {
     "name": "stdout",
     "output_type": "stream",
     "text": [
      "Mean = 0.9935100000000041\n",
      "Standard Deviation = 0.9950818458293221\n",
      "Expected Mean =  0.99351\n",
      "Expected Standard Deviation =  0.9950818458297789\n"
     ]
    }
   ],
   "source": [
    "mean = 0\n",
    "std = 0\n",
    "k = 1\n",
    "for i in range(len(r1)):\n",
    "    mean += (r1[i]-k)/N\n",
    "    std += (r1[i]-k)**2/N\n",
    "\n",
    "mean = mean+k\n",
    "std = np.sqrt(std - (mean-k)**2)\n",
    "\n",
    "print(\"Mean =\",mean)\n",
    "print(\"Standard Deviation =\",std)\n",
    "\n",
    "exp_mean=np.mean(r1)\n",
    "exp_std=np.std(r1)\n",
    "print(\"Expected Mean = \", exp_mean)\n",
    "print(\"Expected Standard Deviation = \", exp_std)"
   ]
  },
  {
   "cell_type": "code",
   "execution_count": 66,
   "metadata": {},
   "outputs": [
    {
     "name": "stdout",
     "output_type": "stream",
     "text": [
      "Fraction occurring at mean: 0.36847\n"
     ]
    }
   ],
   "source": [
    "count = 0\n",
    "for i in range(len(r1)):\n",
    "    if(r1[i] == 1) :\n",
    "        count+=1\n",
    "print(\"Fraction occurring at mean:\", count*1.0/N)"
   ]
  },
  {
   "cell_type": "code",
   "execution_count": 69,
   "metadata": {},
   "outputs": [
    {
     "data": {
      "image/png": "[encoded data removed]",
      "text/plain": [
       "<Figure size 432x288 with 1 Axes>"
      ]
     },
     "metadata": {},
     "output_type": "display_data"
    }
   ],
   "source": [
    "lambd = 20\n",
    "r1 = poisson(lambd, N)\n",
    "plt.hist(r1,bins = 100,density = True)\n",
    "plt.show()"
   ]
  },
  {
   "cell_type": "code",
   "execution_count": 83,
   "metadata": {},
   "outputs": [
    {
     "name": "stdout",
     "output_type": "stream",
     "text": [
      "4\n"
     ]
    },
    {
     "data": {
      "image/png": "[encoded data removed]",
      "text/plain": [
       "<Figure size 432x288 with 1 Axes>"
      ]
     },
     "metadata": {},
     "output_type": "display_data"
    }
   ],
   "source": [
    "r2 = binomial(10,0.2,N)\n",
    "print(r2[11])\n",
    "plt.hist(r2,density = True)\n",
    "plt.show()"
   ]
  },
  {
   "cell_type": "code",
   "execution_count": 75,
   "metadata": {},
   "outputs": [
    {
     "name": "stdout",
     "output_type": "stream",
     "text": [
      "Mean = 2.0058899999997974\n",
      "Standard Deviation = 1.2669630254673943\n",
      "Expected Mean =  2.00589\n",
      "Expected Standard Deviation =  1.266963025466805\n"
     ]
    }
   ],
   "source": [
    "mean = 0\n",
    "std = 0\n",
    "k = 1\n",
    "for i in range(len(r2)):\n",
    "    mean += (r2[i]-k)/N\n",
    "    std += (r2[i]-k)**2/N\n",
    "\n",
    "mean = mean+k\n",
    "std = np.sqrt(std - (mean-k)**2)\n",
    "\n",
    "print(\"Mean =\",mean)\n",
    "print(\"Standard Deviation =\",std)\n",
    "\n",
    "exp_mean=np.mean(r2)\n",
    "exp_std=np.std(r2)\n",
    "print(\"Expected Mean = \", exp_mean)\n",
    "print(\"Expected Standard Deviation = \", exp_std)"
   ]
  },
  {
   "cell_type": "code",
   "execution_count": 78,
   "metadata": {},
   "outputs": [
    {
     "data": {
      "image/png": "[encoded data removed]",
      "text/plain": [
       "<Figure size 432x288 with 1 Axes>"
      ]
     },
     "metadata": {},
     "output_type": "display_data"
    }
   ],
   "source": [
    "r2 = binomial(200,0.05,N)\n",
    "plt.hist(r2,bins = 100,density = True)\n",
    "plt.show()"
   ]
  },
  {
   "cell_type": "code",
   "execution_count": null,
   "metadata": {},
   "outputs": [],
   "source": []
  }
 ],
 "metadata": {
  "kernelspec": {
   "display_name": "Python 3",
   "language": "python",
   "name": "python3"
  },
  "language_info": {
   "codemirror_mode": {
    "name": "ipython",
    "version": 3
   },
   "file_extension": ".py",
   "mimetype": "text/x-python",
   "name": "python",
   "nbconvert_exporter": "python",
   "pygments_lexer": "ipython3",
   "version": "3.6.5"
  }
 },
 "nbformat": 4,
 "nbformat_minor": 2
}
